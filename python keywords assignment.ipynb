{
 "cells": [
  {
   "cell_type": "code",
   "execution_count": 3,
   "id": "e82e49b8-53b4-4100-b4b2-c4b284d653da",
   "metadata": {},
   "outputs": [
    {
     "name": "stdout",
     "output_type": "stream",
     "text": [
      "x is greater than 40\n",
      "0\n",
      "1\n",
      "2\n",
      "8\n",
      "x is greater than 5\n"
     ]
    }
   ],
   "source": [
    "# 1. Explain the significance of Python keywords and provide examples of five keywords.\n",
    "\n",
    "# ans -  KEYWORDS ARE THE RESERVED WORDS IN PYTHON WHOSE MEANING ALREADY DEFINED IN THE PYTHON INTERPRETER.\n",
    "# We can not use a Keywords as a variable name , method name or any other identifier.\n",
    "# python keywords are the case sensitive.in python total keywords are approx 35.\n",
    "# Example: if , for , def , return , else .\n",
    "# 1.if: The if keyword is used for conditional execution. It allows you to execute a block of code only if a specified condition is true.\n",
    "x = 50\n",
    "if x > 40:\n",
    "    print(\"x is greater than 40\")\n",
    "    \n",
    "# 2. for: The for keyword is used for looping over elements in a sequence (such as lists, tuples, or strings).or any iterable object.\n",
    "for i in range(3):\n",
    "    print(i)\n",
    "\n",
    "    \n",
    "# 3. def: The def keyword is used to define functions in Python.\n",
    "def greet(name):\n",
    "    print(\"Hello, \" + name + \"!\")\n",
    "    \n",
    "# 4. return: The return keyword is used inside a function to return a value back to the caller\n",
    "def add(x, y):\n",
    "    return x + y\n",
    "\n",
    "result = add(3, 5)\n",
    "print(result)\n",
    "\n",
    "# 5. else: In Python, else is a keyword used in conjunction with conditional statements, such as if or elif (else if)\n",
    "x = 10\n",
    "\n",
    "if x > 5:\n",
    "    print(\"x is greater than 5\")\n",
    "else:\n",
    "    print(\"x is not greater than 5\")\n"
   ]
  },
  {
   "cell_type": "code",
   "execution_count": 2,
   "id": "a84aeec0-5d33-4a44-a05f-6d0efe2ff048",
   "metadata": {},
   "outputs": [
    {
     "name": "stdout",
     "output_type": "stream",
     "text": [
      "18\n",
      "1\n",
      "200\n",
      "55\n"
     ]
    }
   ],
   "source": [
    "# 2. Describe the rules for defining identifiers in Python and provide an example.\n",
    "\n",
    "# ans - In Python, identifiers are names used to identify variable_name, function_name, classe_name, module_name, or other objects.\n",
    "a = 18\n",
    "print(a)\n",
    "\n",
    "# Rules of identifiers :\n",
    "\n",
    "# in identifiers we use Alphabet(uppercase or lowercase), Digit(0 to 9) and underscore(_)\n",
    "# we should not be statrs with digit.\n",
    "# case sensitive.\n",
    "# We can not use Reserved words (keywords).\n",
    "# special Characters: Identifiers cannot contain special characters such as @, $, %, &, etc., except for the underscore (_).\n",
    "# example :\n",
    "var = 1\n",
    "print(var)\n",
    "_var = 200\n",
    "print(_var)\n",
    "var25 = 55\n",
    "print(var25)"
   ]
  },
  {
   "cell_type": "code",
   "execution_count": 1,
   "id": "fb522aeb-25d1-461c-9182-2eefc3d73b3b",
   "metadata": {},
   "outputs": [
    {
     "name": "stdout",
     "output_type": "stream",
     "text": [
      "x is greater than 5\n",
      "x is greater than 50\n"
     ]
    }
   ],
   "source": [
    "# 3. What are comments in Python, and why are they useful? Provide an example.\n",
    "\n",
    "# ans - 1. Comments in Python are explanatory notes added to the code to provide additional information or explanations.\n",
    "# 2. They are ignored by the Python interpreter and are purely for human readers.\n",
    "# 3. There are two types of Comments single-line(#) or multi-line(\"\"\"\"\"\").\n",
    "\n",
    "# Useful of comments:\n",
    "\n",
    "# 1.Documentation: Comments can serve as documentation for the code, explaining its purpose, logic, or usage.They help other developers (or even your future self) understand the codebase more easily. \n",
    "\n",
    "# 2.Clarification: Comments can clarify complex or obscure parts of the code, making it easier for others to follow your thought process or intentions.\n",
    "\n",
    "# 3.Debugging: Comments can help in debugging by temporarily disabling certain lines of code or providing insights into the debugging process.\n",
    "\n",
    "# Example of comments:\n",
    "\n",
    "# This is a single-line comment\n",
    "x = 10  # Assigning the value 10 to the variable x\n",
    "\n",
    "# Checking if x is greater than 5\n",
    "if x > 5:\n",
    "    print(\"x is greater than 5\")  # Printing a message if x is greater than 5\n",
    "else:\n",
    "    print(\"x is not greater than 5\")  # Printing a message if x is not greater than 5\n",
    "\n",
    "# This is a multi-line comment\n",
    "\"\"\"\n",
    "x = 100\n",
    "\n",
    "if x > 50:\n",
    "    print(\"x is greater than 5\")\n",
    "else:\n",
    "    print(\"x is not greater than 5\")\n",
    "\n",
    "\"\"\"\n",
    "x = 100\n",
    "\n",
    "if x > 50:\n",
    "    print(\"x is greater than 50\")\n",
    "else:\n",
    "    print(\"x is not greater than 50\")\n",
    "\n",
    "\n",
    "\n",
    "\n"
   ]
  },
  {
   "cell_type": "code",
   "execution_count": 18,
   "id": "fc2b8a14-3f0b-43e2-89af-2ce695e963e1",
   "metadata": {},
   "outputs": [],
   "source": [
    "# 4.Why is proper indentation important in Python?\n",
    "# ans - Proper indentation is crucial in Python because it is used to define the structure and hierarchy of code blocks.\n",
    "# Python uses indentation to signify the beginning and end of blocks of code. Here's why proper indentation is important.\n",
    "\n",
    "# 1. Readability: Proper indentation enhances code readability by visually organizing the code structure.\n",
    "# 2. Code Structure: In Python, indentation defines the structure of the code, including loops, conditionals, functions, classes, etc\n",
    "# 3. Pythonic Style: Proper indentation is a fundamental aspect of Python's coding style and best practices.\n",
    "# 4. Maintainability: Consistent and clear indentation improves the maintainability of the codebase.\n"
   ]
  },
  {
   "cell_type": "code",
   "execution_count": 5,
   "id": "d4678f77-145d-4218-9fbf-1fb1281426b9",
   "metadata": {},
   "outputs": [
    {
     "ename": "IndentationError",
     "evalue": "expected an indented block after 'if' statement on line 12 (3989090876.py, line 13)",
     "output_type": "error",
     "traceback": [
      "\u001b[0;36m  Cell \u001b[0;32mIn[5], line 13\u001b[0;36m\u001b[0m\n\u001b[0;31m    print(\"x is greater than 5\")\u001b[0m\n\u001b[0m    ^\u001b[0m\n\u001b[0;31mIndentationError\u001b[0m\u001b[0;31m:\u001b[0m expected an indented block after 'if' statement on line 12\n"
     ]
    }
   ],
   "source": [
    "# 5.What happens if indentation is incorrect in Python?\n",
    "\n",
    "# ans - If indentation is incorrect in Python, it will lead to syntax errors or unexpected behavior in the code.\n",
    "# Python relies on indentation to define the structure and hierarchy of code blocks, such as loops, conditionals, functions, and classes\n",
    "# Incorrect indentation can cause the interpreter to  resulting in errors or logic that behaves differently from what the programmer intended.\n",
    "# Syntax Confusion: In some cases, incorrect indentation may not raise an error but can still confuse the syntax of the code. \n",
    "# Unexpected Behavior: Incorrect indentation can cause code to behave unpredictably or produce incorrect results. \n",
    "\n",
    "# Example of wrong indentation.\n",
    "x = 10\n",
    "\n",
    "if x > 5:\n",
    "print(\"x is greater than 5\")\n",
    "\n"
   ]
  },
  {
   "cell_type": "code",
   "execution_count": 9,
   "id": "35958169-c384-4a0a-bd83-ac67eb642400",
   "metadata": {},
   "outputs": [
    {
     "name": "stdout",
     "output_type": "stream",
     "text": [
      "30\n",
      "0\n",
      "1\n",
      "2\n",
      "3\n",
      "4\n"
     ]
    }
   ],
   "source": [
    "# 6. Differentiate 0etween expression and statement in Python with examples\n",
    "\n",
    "# ans - Sure, let's differentiate between expressions and statements in Python with examples:\n",
    "\n",
    "# Expression:An expression is a combination of values, variables, operators, and function calls that produces a value.\n",
    "# Expressions can be simple or complex, and they can be used to perform computations or represent data.\n",
    "# They can appear anywhere in Python code where a value is expected, such as in assignments, function arguments, or within other expressions.\n",
    "\n",
    "# Example of expression.\n",
    "a = 10\n",
    "\n",
    "b = 20\n",
    "\n",
    "c = a+b\n",
    "\n",
    "print(c)\n",
    "\n",
    "\n",
    "# Statement:\n",
    "# A statement is a complete line of code that performs some action. It represents a command or instruction for the Python interpreter to execute.\n",
    "# Statements can include assignments, function calls, control flow structures (such as if, for, while),\n",
    "\n",
    "# example of statement:\n",
    "for i in range(5):\n",
    "    print(i)"
   ]
  },
  {
   "cell_type": "code",
   "execution_count": null,
   "id": "f0cd482c-a4e8-4236-a6af-3d7630220d73",
   "metadata": {},
   "outputs": [],
   "source": []
  }
 ],
 "metadata": {
  "kernelspec": {
   "display_name": "Python 3 (ipykernel)",
   "language": "python",
   "name": "python3"
  },
  "language_info": {
   "codemirror_mode": {
    "name": "ipython",
    "version": 3
   },
   "file_extension": ".py",
   "mimetype": "text/x-python",
   "name": "python",
   "nbconvert_exporter": "python",
   "pygments_lexer": "ipython3",
   "version": "3.10.8"
  }
 },
 "nbformat": 4,
 "nbformat_minor": 5
}
